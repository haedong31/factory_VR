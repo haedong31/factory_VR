{
 "cells": [
  {
   "cell_type": "code",
   "execution_count": 49,
   "metadata": {},
   "outputs": [],
   "source": [
    "import pandas as pd\n",
    "import numpy as np\n",
    "import RNG"
   ]
  },
  {
   "cell_type": "markdown",
   "metadata": {},
   "source": [
    "### Simulation parameters and helper functions"
   ]
  },
  {
   "cell_type": "code",
   "execution_count": 50,
   "metadata": {},
   "outputs": [],
   "source": [
    "num_order = np.random.randint(low=1,high=11,size=1)[0]#  ~ Unif[1,11)\n",
    "\n",
    "# unit of time: minuate\n",
    "spawn_meant = 0.25\n",
    "teleport_meant = 0.5\n",
    "assemble_meant = 1.0\n",
    "insp_meant = 1.5\n",
    "pass_meant = 1.0\n",
    "\n",
    "class ActionLogger(object):\n",
    "    def __init__(self):\n",
    "        self.clock = 0.0\n",
    "        self.alog = []\n",
    "        self.tlog = []\n",
    "\n",
    "    def write_act(self,a,t):\n",
    "        self.clock += t\n",
    "        self.alog.append(a)\n",
    "        self.tlog.append(self.clock)"
   ]
  },
  {
   "cell_type": "markdown",
   "metadata": {},
   "source": [
    "### Station 1 - Wheelsets x 2"
   ]
  },
  {
   "cell_type": "code",
   "execution_count": 51,
   "metadata": {},
   "outputs": [],
   "source": [
    "logger1 = ActionLogger()\n",
    "for _ in range(num_order):\n",
    "    for _ in range(2):\n",
    "        # sourcing\n",
    "        for _ in range(7):\n",
    "            logger1.write_act(\"SpawnPart\",RNG.Expon(spawn_meant,1))\n",
    "\n",
    "        # manufacturing\n",
    "        # (rim + tire) x 2\n",
    "        for _ in range(2):\n",
    "            logger1.write_act(\"TeleportPart\",RNG.Expon(teleport_meant,1)) # rim\n",
    "            logger1.write_act(\"TeleportPart\",RNG.Expon(teleport_meant,1)) # tire\n",
    "            logger1.write_act(\"Assemble\",RNG.Expon(assemble_meant,1)) # rim + tire\n",
    "\n",
    "        # (wheels + axle)\n",
    "        logger1.write_act(\"TeleportPart\",RNG.Expon(teleport_meant,1)) # axle\n",
    "        logger1.write_act(\"Assemble\",RNG.Expon(assemble_meant,1)) # axle + wheel 1\n",
    "        logger1.write_act(\"Assemble\",RNG.Expon(assemble_meant,1)) # axle + wheel 2\n",
    "        \n",
    "        # (axle + axle)\n",
    "        logger1.write_act(\"TeleportPart\",RNG.Expon(teleport_meant,1)) # connecting plate\n",
    "        logger1.write_act(\"Assemble\",RNG.Expon(assemble_meant,1)) # axle + axle\n",
    "\n",
    "        # inspection\n",
    "        logger1.write_act(\"Inspection\",RNG.Expon(insp_meant,1))\n",
    "    # pass wheelsets to downstream\n",
    "    logger1.write_act(\"Pass\",RNG.Expon(pass_meant,1))"
   ]
  },
  {
   "cell_type": "markdown",
   "metadata": {},
   "source": [
    "### Station 2 - Chassis"
   ]
  },
  {
   "cell_type": "code",
   "execution_count": 52,
   "metadata": {},
   "outputs": [
    {
     "data": {
      "text/plain": [
       "array([ 38,  77, 116, 155, 194, 233, 272], dtype=int64)"
      ]
     },
     "execution_count": 52,
     "metadata": {},
     "output_type": "execute_result"
    }
   ],
   "source": [
    "upstream_parts_idx = np.where(np.array(logger1.alog)==\"Pass\")[0]\n",
    "upstream_parts_idx"
   ]
  },
  {
   "cell_type": "code",
   "execution_count": 53,
   "metadata": {},
   "outputs": [
    {
     "data": {
      "text/plain": [
       "array([ 27.78306928,  48.13629974,  73.06424703,  99.2046338 ,\n",
       "       126.06710166, 142.56458032, 162.07319741])"
      ]
     },
     "execution_count": 53,
     "metadata": {},
     "output_type": "execute_result"
    }
   ],
   "source": [
    "upstream_parts_time = np.array(logger1.tlog)[upstream_parts_idx]\n",
    "upstream_parts_time"
   ]
  },
  {
   "cell_type": "code",
   "execution_count": 55,
   "metadata": {},
   "outputs": [],
   "source": [
    "upstream_parts_idx = np.where(np.array(logger1.alog)==\"Pass\")[0]\n",
    "upstream_parts_time = np.array(logger1.tlog)[upstream_parts_idx]\n",
    "\n",
    "logger2 = ActionLogger()\n",
    "for i in range(num_order):\n",
    "    # sourcing\n",
    "    for _ in range(9):\n",
    "        logger2.write_act(\"SpawnPart\",RNG.Expon(spawn_meant,2))\n",
    "\n",
    "    # manufacturing\n",
    "    # at least need one bottom plate\n",
    "    # (long plate + long plate)\n",
    "    logger2.write_act(\"TeleportPart\",RNG.Expon(teleport_meant,2))\n",
    "    logger2.write_act(\"TeleportPart\",RNG.Expon(teleport_meant,2))\n",
    "    logger2.write_act(\"Assemble\",RNG.Expon(assemble_meant,2))\n",
    "\n",
    "    # need to receive wheelsets from the upstream\n",
    "    if logger2.clock < upstream_parts_time[i]:\n",
    "        # wait (may have plating assembled rather than just waiting)\n",
    "        logger2.clock = upstream_parts_time[i]\n",
    "\n",
    "    # (connected plate + wheelsets)\n",
    "    logger2.write_act(\"TeleportPart\",RNG.Expon(teleport_meant,2))\n",
    "    logger2.write_act(\"Assemble\",RNG.Expon(assemble_meant,2))\n",
    "    logger2.write_act(\"TeleportPart\",RNG.Expon(teleport_meant,2))\n",
    "    logger2.write_act(\"Assemble\",RNG.Expon(assemble_meant,2))\n",
    "\n",
    "    # (front bumper 1)\n",
    "    logger2.write_act(\"TeleportPart\",RNG.Expon(teleport_meant,2))\n",
    "    logger2.write_act(\"TeleportPart\",RNG.Expon(teleport_meant,2))\n",
    "    logger2.write_act(\"TeleportPart\",RNG.Expon(teleport_meant,2))\n",
    "    logger2.write_act(\"Assemble\",RNG.Expon(assemble_meant,2))\n",
    "    logger2.write_act(\"Assemble\",RNG.Expon(assemble_meant,2))\n",
    "\n",
    "    # (front bumper 2)\n",
    "    logger2.write_act(\"TeleportPart\",RNG.Expon(teleport_meant,2))\n",
    "    logger2.write_act(\"TeleportPart\",RNG.Expon(teleport_meant,2))\n",
    "    logger2.write_act(\"Assemble\",RNG.Expon(assemble_meant,2))\n",
    "    logger2.write_act(\"Assemble\",RNG.Expon(assemble_meant,2))\n",
    "\n",
    "    # (chassis + front bumper)\n",
    "    logger2.write_act(\"Assemble\",RNG.Expon(assemble_meant,2))\n",
    "\n",
    "    # inspection & pass chassis to downstream\n",
    "    logger2.write_act(\"Inspection\",RNG.Expon(insp_meant,2))\n",
    "    logger2.write_act(\"Pass\",RNG.Expon(pass_meant,2))"
   ]
  },
  {
   "cell_type": "code",
   "execution_count": 56,
   "metadata": {},
   "outputs": [
    {
     "data": {
      "text/plain": [
       "['SpawnPart',\n",
       " 'SpawnPart',\n",
       " 'SpawnPart',\n",
       " 'SpawnPart',\n",
       " 'SpawnPart',\n",
       " 'SpawnPart',\n",
       " 'SpawnPart',\n",
       " 'SpawnPart',\n",
       " 'SpawnPart',\n",
       " 'TeleportPart',\n",
       " 'TeleportPart',\n",
       " 'Assemble',\n",
       " 'TeleportPart',\n",
       " 'Assemble',\n",
       " 'TeleportPart']"
      ]
     },
     "execution_count": 56,
     "metadata": {},
     "output_type": "execute_result"
    }
   ],
   "source": [
    "logger2.alog[:15]"
   ]
  },
  {
   "cell_type": "code",
   "execution_count": 57,
   "metadata": {},
   "outputs": [
    {
     "data": {
      "text/plain": [
       "[0.4611444052785237,\n",
       " 0.47781568736914204,\n",
       " 0.5759271421370202,\n",
       " 0.8793353186476065,\n",
       " 0.9648705265461307,\n",
       " 1.3947191561010528,\n",
       " 1.7964806362277375,\n",
       " 1.92925191118627,\n",
       " 1.9451268478314465,\n",
       " 2.340645431582912,\n",
       " 2.3470037515323665,\n",
       " 2.420578734297464,\n",
       " 27.929316610614165,\n",
       " 29.111904250827816,\n",
       " 30.008574192269194]"
      ]
     },
     "execution_count": 57,
     "metadata": {},
     "output_type": "execute_result"
    }
   ],
   "source": [
    "logger2.tlog[:15]"
   ]
  },
  {
   "cell_type": "markdown",
   "metadata": {},
   "source": [
    "### Station 3 - Windshield & front body"
   ]
  },
  {
   "cell_type": "code",
   "execution_count": null,
   "metadata": {},
   "outputs": [],
   "source": [
    "logger3 = ActionLogger()"
   ]
  },
  {
   "cell_type": "markdown",
   "metadata": {},
   "source": [
    "### Station 4 - Ceiling & rear body"
   ]
  },
  {
   "cell_type": "code",
   "execution_count": null,
   "metadata": {},
   "outputs": [],
   "source": [
    "logger4 = ActionLogger()"
   ]
  }
 ],
 "metadata": {
  "kernelspec": {
   "display_name": "Python 3.9.7 ('base')",
   "language": "python",
   "name": "python3"
  },
  "language_info": {
   "codemirror_mode": {
    "name": "ipython",
    "version": 3
   },
   "file_extension": ".py",
   "mimetype": "text/x-python",
   "name": "python",
   "nbconvert_exporter": "python",
   "pygments_lexer": "ipython3",
   "version": "3.9.7"
  },
  "orig_nbformat": 4,
  "vscode": {
   "interpreter": {
    "hash": "41490c706c2f5d934508b9157cd4aeb40558a7e0fa8a6061ce60f5cf39ecf8e6"
   }
  }
 },
 "nbformat": 4,
 "nbformat_minor": 2
}
