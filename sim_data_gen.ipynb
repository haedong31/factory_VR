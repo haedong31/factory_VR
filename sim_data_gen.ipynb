{
 "cells": [
  {
   "cell_type": "code",
   "execution_count": 45,
   "metadata": {},
   "outputs": [],
   "source": [
    "import pandas as pd\n",
    "import numpy as np\n",
    "import RNG\n",
    "import matplotlib.pyplot as plt\n",
    "from scipy.optimize import curve_fit"
   ]
  },
  {
   "cell_type": "markdown",
   "metadata": {},
   "source": [
    "### Simulation parameters and helper functions"
   ]
  },
  {
   "cell_type": "code",
   "execution_count": 46,
   "metadata": {},
   "outputs": [],
   "source": [
    "# num_order = np.random.randint(low=5,high=11,size=1)[0] # ~ Unif[1,11)\n",
    "num_order = 10\n",
    "\n",
    "class ActionLogger(object):\n",
    "    def __init__(self):\n",
    "        self.clock = 0.0\n",
    "        self.n = 0\n",
    "        self.alog = []\n",
    "        self.tlog = []\n",
    "\n",
    "    def write_act(self,a,t):\n",
    "        self.clock += t\n",
    "        self.n += 1\n",
    "        self.alog.append(a)\n",
    "        self.tlog.append(self.clock)\n",
    "\n",
    "def exp_decay(x,a,b):\n",
    "    return a*np.exp(-b*x)\n",
    "\n",
    "def make_wheelset(logger,exp_means,rnd_seed):\n",
    "    # sourcing\n",
    "    for _ in range(7):\n",
    "        logger.write_act(\"SpawnPart\",RNG.Expon(exp_means[0],rnd_seed))\n",
    "\n",
    "    # (rim + tire) x 2\n",
    "    for _ in range(2):\n",
    "        logger.write_act(\"TeleportPart\",RNG.Expon(exp_means[1],rnd_seed)) # rim\n",
    "        logger.write_act(\"TeleportPart\",RNG.Expon(exp_means[1],rnd_seed)) # tire\n",
    "        logger.write_act(\"Assemble\",RNG.Expon(exp_means[2],rnd_seed)) # rim + tire\n",
    "\n",
    "    # (wheels + axle)\n",
    "    logger.write_act(\"TeleportPart\",RNG.Expon(exp_means[1],rnd_seed)) # axle\n",
    "    logger.write_act(\"Assemble\",RNG.Expon(exp_means[2],rnd_seed)) # axle + wheel 1\n",
    "    logger.write_act(\"Assemble\",RNG.Expon(exp_means[2],rnd_seed)) # axle + wheel 2\n",
    "    \n",
    "    # (axle + axle)\n",
    "    logger.write_act(\"TeleportPart\",RNG.Expon(exp_means[1],rnd_seed)) # connecting plate\n",
    "    logger.write_act(\"Assemble\",RNG.Expon(exp_means[2],rnd_seed)) # axle + axle\n",
    "\n",
    "    # inspection\n",
    "    # logger.write_act(\"Inspection\",RNG.Expon(insp_meant,rnd_seed))\n",
    "\n",
    "def make_chassis_base(logger,exp_means,rnd_seed):\n",
    "    # sourcing\n",
    "    for _ in range(4):\n",
    "        logger.write_act(\"SpawnPart\",RNG.Expon(exp_means[0],rnd_seed))\n",
    "    \n",
    "    # (long plate + long plate)\n",
    "    logger.write_act(\"TeleportPart\",RNG.Expon(exp_means[1],rnd_seed))\n",
    "    logger.write_act(\"TeleportPart\",RNG.Expon(exp_means[1],rnd_seed))\n",
    "    logger.write_act(\"Assemble\",RNG.Expon(exp_means[2],rnd_seed))\n",
    "\n",
    "    # (connecting plates) x 2\n",
    "    logger.write_act(\"TeleportPart\",RNG.Expon(exp_means[1],rnd_seed))\n",
    "    logger.write_act(\"Assemble\",RNG.Expon(exp_means[2],rnd_seed))\n",
    "    logger.write_act(\"TeleportPart\",RNG.Expon(exp_means[1],rnd_seed))\n",
    "    logger.write_act(\"Assemble\",RNG.Expon(exp_means[2],rnd_seed))\n",
    "\n",
    "def make_front(logger,exp_means,rnd_seed):\n",
    "    for _ in range(5):\n",
    "        logger.write_act(\"SpawnPart\",RNG.Expon(exp_means[0],rnd_seed))\n",
    "\n",
    "    # (front bumper)\n",
    "    logger.write_act(\"TeleportPart\",RNG.Expon(exp_means[1],rnd_seed))\n",
    "    logger.write_act(\"TeleportPart\",RNG.Expon(exp_means[1],rnd_seed))\n",
    "    logger.write_act(\"Assemble\",RNG.Expon(exp_means[2],rnd_seed)) # frist two blocks\n",
    "    logger.write_act(\"TeleportPart\",RNG.Expon(exp_means[1],rnd_seed))\n",
    "    logger.write_act(\"Assemble\",RNG.Expon(exp_means[2],rnd_seed)) # last blocok\n",
    "\n",
    "    # (engine bay)\n",
    "    logger.write_act(\"TeleportPart\",RNG.Expon(exp_means[1],rnd_seed))\n",
    "    logger.write_act(\"Assemble\",RNG.Expon(exp_means[2],rnd_seed)) # slope 1\n",
    "    logger.write_act(\"TeleportPart\",RNG.Expon(exp_means[1],rnd_seed))\n",
    "    logger.write_act(\"Assemble\",RNG.Expon(exp_means[2],rnd_seed)) # slope 2 \n",
    "\n",
    "def finish_station2(logger,exp_means,rnd_seed):\n",
    "    # (wheelsets + base)\n",
    "    logger.write_act(\"TeleportPart\",RNG.Expon(exp_means[1],rnd_seed))\n",
    "    logger.write_act(\"Assemble\",RNG.Expon(exp_means[2],rnd_seed))\n",
    "    logger.write_act(\"TeleportPart\",RNG.Expon(exp_means[1],rnd_seed))\n",
    "    logger.write_act(\"Assemble\",RNG.Expon(exp_means[2],rnd_seed))        \n",
    "\n",
    "    # assemble base and front module\n",
    "    logger.write_act(\"Assemble\",RNG.Expon(exp_means[2],rnd_seed))\n",
    "\n",
    "    # inspection\n",
    "    # logger.write_act(\"Inspection\",RNG.Expon(insp_meant,rnd_seed))\n",
    "\n",
    "def make_steering(logger,exp_means,rnd_seed):\n",
    "    for _ in range(2):\n",
    "        logger.write_act(\"SpawnPart\",RNG.Expon(exp_means[0],rnd_seed))\n",
    "    logger.write_act(\"TeleportPart\",RNG.Expon(exp_means[1],rnd_seed))\n",
    "    logger.write_act(\"TeleportPart\",RNG.Expon(exp_means[1],rnd_seed))\n",
    "    logger.write_act(\"Assemble\",RNG.Expon(exp_means[2],rnd_seed))\n",
    "\n",
    "def finish_station3(logger,exp_means,rnd_seed):\n",
    "    # windshield\n",
    "    logger.write_act(\"SpawnPart\",RNG.Expon(exp_means[0],rnd_seed))\n",
    "    logger.write_act(\"TeleportPart\",RNG.Expon(exp_means[1],rnd_seed))\n",
    "    logger.write_act(\"Assemble\",RNG.Expon(exp_means[2],rnd_seed))\n",
    "\n",
    "    # (chassis + steering module)\n",
    "    logger.write_act(\"TeleportPart\",RNG.Expon(exp_means[1],rnd_seed))\n",
    "    logger.write_act(\"Assemble\",RNG.Expon(exp_means[2],rnd_seed))\n",
    "\n",
    "    # inspection & pass to downstream\n",
    "    # logger.write_act(\"Inspection\",RNG.Expon(insp_meant,rnd_seed))\n",
    "\n",
    "def make_body_frame(logger,exp_means,rnd_seed):\n",
    "    for _ in range(7):\n",
    "        logger.write_act(\"SpawnPart\",RNG.Expon(exp_means[0],rnd_seed))\n",
    "    logger.write_act(\"TeleportPart\",RNG.Expon(exp_means[1],rnd_seed))\n",
    "    logger.write_act(\"TeleportPart\",RNG.Expon(exp_means[1],rnd_seed))\n",
    "    logger.write_act(\"Assemble\",RNG.Expon(exp_means[2],rnd_seed))\n",
    "    logger.write_act(\"TeleportPart\",RNG.Expon(exp_means[1],rnd_seed))\n",
    "    logger.write_act(\"Assemble\",RNG.Expon(exp_means[2],rnd_seed))\n",
    "    logger.write_act(\"TeleportPart\",RNG.Expon(exp_means[1],rnd_seed))\n",
    "    logger.write_act(\"Assemble\",RNG.Expon(exp_means[2],rnd_seed))\n",
    "    logger.write_act(\"TeleportPart\",RNG.Expon(exp_means[1],rnd_seed))\n",
    "    logger.write_act(\"Assemble\",RNG.Expon(exp_means[2],rnd_seed))\n",
    "    logger.write_act(\"TeleportPart\",RNG.Expon(exp_means[1],rnd_seed))\n",
    "    logger.write_act(\"Assemble\",RNG.Expon(exp_means[2],rnd_seed))\n",
    "    logger.write_act(\"TeleportPart\",RNG.Expon(exp_means[1],rnd_seed))\n",
    "    logger.write_act(\"Assemble\",RNG.Expon(exp_means[2],rnd_seed))\n",
    "\n",
    "def finish_station4(logger,exp_means,rnd_seed):\n",
    "    # ceiling\n",
    "    logger.write_act(\"SpawnPart\",RNG.Expon(exp_means[0],rnd_seed))\n",
    "    logger.write_act(\"TeleportPart\",RNG.Expon(exp_means[1],rnd_seed))\n",
    "    logger.write_act(\"Assemble\",RNG.Expon(exp_means[2],rnd_seed))\n",
    "\n",
    "    # inspection & pass to downstream\n",
    "    # logger.write_act(\"Inspection\",RNG.Expon(insp_meant,rnd_seed))\n",
    "\n",
    "def craft_car(logger,exp_means,rnd_seed):\n",
    "    make_wheelset(logger,exp_means,rnd_seed)\n",
    "    make_wheelset(logger,exp_means,rnd_seed)\n",
    "    make_chassis_base(logger,exp_means,rnd_seed)\n",
    "    make_front(logger,exp_means,rnd_seed)\n",
    "    finish_station2(logger,exp_means,rnd_seed)\n",
    "    make_steering(logger,exp_means,rnd_seed)\n",
    "    finish_station3(logger,exp_means,rnd_seed)\n",
    "    make_body_frame(logger,exp_means,rnd_seed)\n",
    "    finish_station4(logger,exp_means,rnd_seed)"
   ]
  },
  {
   "attachments": {},
   "cell_type": "markdown",
   "metadata": {},
   "source": [
    "### Exponential decay of mean times of actions"
   ]
  },
  {
   "cell_type": "code",
   "execution_count": 47,
   "metadata": {},
   "outputs": [
    {
     "name": "stderr",
     "output_type": "stream",
     "text": [
      "C:\\Users\\haedo\\AppData\\Local\\Temp/ipykernel_14724/2540435946.py:18: RuntimeWarning: overflow encountered in exp\n",
      "  return a*np.exp(-b*x)\n",
      "c:\\Users\\haedo\\anaconda3\\lib\\site-packages\\scipy\\optimize\\minpack.py:833: OptimizeWarning: Covariance of the parameters could not be estimated\n",
      "  warnings.warn('Covariance of the parameters could not be estimated',\n"
     ]
    }
   ],
   "source": [
    "# unit of time: minuate\n",
    "spawn_meant0 = 0.5\n",
    "teleport_meant0 = 0.5\n",
    "assemble_meant0 = 1.0\n",
    "pass_meant0 = 0.25\n",
    "# insp_meant = 1.5\n",
    "\n",
    "spawn_meant_param,_ = curve_fit(exp_decay,np.array([0,num_order-1]),np.array([spawn_meant0,spawn_meant0*0.5]))\n",
    "teleport_meant_param,_ = curve_fit(exp_decay,np.array([0,num_order-1]),np.array([teleport_meant0,teleport_meant0*0.5]))\n",
    "assemble_meant_param,_ = curve_fit(exp_decay,np.array([0,num_order-1]),np.array([assemble_meant0,assemble_meant0*0.5]))\n",
    "pass_meant_param,_ = curve_fit(exp_decay,np.array([0,num_order-1]),np.array([pass_meant0,pass_meant0*0.5]))"
   ]
  },
  {
   "attachments": {},
   "cell_type": "markdown",
   "metadata": {},
   "source": [
    "## Collaboration - High\n",
    "### Station 1 - Wheelsets x 2"
   ]
  },
  {
   "cell_type": "code",
   "execution_count": 48,
   "metadata": {},
   "outputs": [],
   "source": [
    "x = np.arange(num_order*2)\n",
    "spawn_meant = exp_decay(x,spawn_meant_param[0],spawn_meant_param[1])\n",
    "teleport_meant = exp_decay(x,teleport_meant_param[0],teleport_meant_param[1])\n",
    "assemble_meant = exp_decay(x,assemble_meant_param[0],assemble_meant_param[1])\n",
    "pass_meant = exp_decay(x,pass_meant_param[0],pass_meant_param[1])\n",
    "\n",
    "logger1 = ActionLogger()\n",
    "for i in range(num_order):\n",
    "    t = [spawn_meant[2*i],teleport_meant[2*i],assemble_meant[2*i]]\n",
    "    make_wheelset(logger1,t,1)\n",
    "    t = [spawn_meant[2*i+1],teleport_meant[2*i+1],assemble_meant[2*i+1]]\n",
    "    make_wheelset(logger1,t,1)\n",
    "    # pass wheelsets to downstream\n",
    "    logger1.write_act(\"Pass\",RNG.Expon(pass_meant[i],1))"
   ]
  },
  {
   "cell_type": "markdown",
   "metadata": {},
   "source": [
    "### Station 2 - Chassis"
   ]
  },
  {
   "cell_type": "code",
   "execution_count": 49,
   "metadata": {},
   "outputs": [],
   "source": [
    "x = np.arange(num_order)\n",
    "spawn_meant = exp_decay(x,spawn_meant_param[0],spawn_meant_param[1])\n",
    "teleport_meant = exp_decay(x,teleport_meant_param[0],teleport_meant_param[1])\n",
    "assemble_meant = exp_decay(x,assemble_meant_param[0],assemble_meant_param[1])\n",
    "pass_meant = exp_decay(x,pass_meant_param[0],pass_meant_param[1])\n",
    "\n",
    "upstream_parts_idx = np.where(np.array(logger1.alog)==\"Pass\")[0]\n",
    "upstream_parts_time = np.array(logger1.tlog)[upstream_parts_idx]\n",
    "\n",
    "logger2 = ActionLogger()\n",
    "num_received_up = 0\n",
    "num_base = 0\n",
    "num_complete = 0\n",
    "\n",
    "# first chassis base\n",
    "t = [spawn_meant[num_base],teleport_meant[num_base],assemble_meant[num_base]]\n",
    "make_chassis_base(logger2,t,1)\n",
    "num_base += 1\n",
    "\n",
    "while True:\n",
    "    # need to receive wheelsets from upstream\n",
    "    if (logger2.clock<upstream_parts_time[num_received_up]) or (num_base<=num_received_up):\n",
    "        # keep making bases until getting wheelsets from upstream\n",
    "        t = [spawn_meant[num_base],teleport_meant[num_base],assemble_meant[num_base]]\n",
    "        make_chassis_base(logger2,t,1)\n",
    "        num_base += 1\n",
    "    else:\n",
    "        num_received_up += 1\n",
    "        t = [spawn_meant[num_complete],teleport_meant[num_complete],assemble_meant[num_complete]]\n",
    "        make_front(logger2,t,1)\n",
    "        finish_station2(logger2,t,1)\n",
    "        logger2.write_act(\"Pass\",RNG.Expon(pass_meant[num_complete],1))\n",
    "        num_complete += 1\n",
    "    # completed all necessary chassis bases\n",
    "    if num_base == num_order:\n",
    "        break\n",
    "\n",
    "# empty out chassis bases in inventory\n",
    "while num_received_up < num_order:\n",
    "    if logger2.clock < upstream_parts_time[num_received_up]:\n",
    "        # wating wheelsets from upstream and complete chassis\n",
    "        logger2.clock = upstream_parts_time[num_received_up]\n",
    "    else:\n",
    "        num_received_up += 1\n",
    "        t = [spawn_meant[num_complete],teleport_meant[num_complete],assemble_meant[num_complete]]\n",
    "        make_front(logger2,t,1)        \n",
    "        finish_station2(logger2,t,1)\n",
    "        logger2.write_act(\"Pass\",RNG.Expon(pass_meant[num_complete],2))\n",
    "        num_complete += 1"
   ]
  },
  {
   "cell_type": "markdown",
   "metadata": {},
   "source": [
    "### Station 3 - Windshield & steering"
   ]
  },
  {
   "cell_type": "code",
   "execution_count": 50,
   "metadata": {},
   "outputs": [],
   "source": [
    "upstream_parts_idx = np.where(np.array(logger2.alog)==\"Pass\")[0]\n",
    "upstream_parts_time = np.array(logger2.tlog)[upstream_parts_idx]\n",
    "\n",
    "logger3 = ActionLogger()\n",
    "num_received_up = 0\n",
    "num_steer = 0\n",
    "num_complete = 0\n",
    "\n",
    "# first steering\n",
    "t = [spawn_meant[num_steer],teleport_meant[num_steer],assemble_meant[num_steer]]\n",
    "make_steering(logger3,t,1)\n",
    "num_steer += 1\n",
    "\n",
    "while True:\n",
    "    # need to receive chassis from upstream\n",
    "    if (logger3.clock<upstream_parts_time[num_received_up]) or (num_steer<=num_received_up):\n",
    "        # keep making front body frame until getting chassis from upstream\n",
    "        t = [spawn_meant[num_steer],teleport_meant[num_steer],assemble_meant[num_steer]]\n",
    "        make_steering(logger3,t,1)\n",
    "        num_steer += 1\n",
    "    else:\n",
    "        num_received_up += 1\n",
    "        t = [spawn_meant[num_complete],teleport_meant[num_complete],assemble_meant[num_complete]]\n",
    "        finish_station3(logger3,t,1)\n",
    "        logger3.write_act(\"Pass\",RNG.Expon(pass_meant[num_complete],3))\n",
    "        num_complete += 1\n",
    "\n",
    "    # completed all necessary front body frames\n",
    "    if num_steer == num_order:\n",
    "        break\n",
    "\n",
    "# empty out steering modules in inventory\n",
    "while num_received_up < num_order:\n",
    "    if logger3.clock < upstream_parts_time[num_received_up]:\n",
    "        # waiting chassis coming from upstream\n",
    "        logger3.clock = upstream_parts_time[num_received_up]\n",
    "    else:\n",
    "        num_received_up += 1\n",
    "        t = [spawn_meant[num_complete],teleport_meant[num_complete],assemble_meant[num_complete]]\n",
    "        finish_station3(logger3,t,1)\n",
    "        logger3.write_act(\"Pass\",RNG.Expon(pass_meant[num_complete],3))\n",
    "        num_complete += 1"
   ]
  },
  {
   "cell_type": "markdown",
   "metadata": {},
   "source": [
    "### Station 4 - Body & ceiling"
   ]
  },
  {
   "cell_type": "code",
   "execution_count": 51,
   "metadata": {},
   "outputs": [],
   "source": [
    "upstream_parts_idx = np.where(np.array(logger3.alog)==\"Pass\")[0]\n",
    "upstream_parts_time = np.array(logger3.tlog)[upstream_parts_idx]\n",
    "\n",
    "logger4 = ActionLogger()\n",
    "num_received_up = 0\n",
    "num_body = 0\n",
    "num_complete = 0\n",
    "\n",
    "# first body frame\n",
    "t = [spawn_meant[num_body],teleport_meant[num_body],assemble_meant[num_body]]\n",
    "make_body_frame(logger4,t,1)\n",
    "num_body += 1\n",
    "\n",
    "while True:\n",
    "    if (logger4.clock<upstream_parts_time[num_received_up]) or (num_body<=num_received_up):\n",
    "        # keep making body frames until getting parts from upstream\n",
    "        t = [spawn_meant[num_body],teleport_meant[num_body],assemble_meant[num_body]]\n",
    "        make_body_frame(logger4,t,1)\n",
    "        num_body += 1\n",
    "    else:\n",
    "        num_received_up += 1\n",
    "        t = [spawn_meant[num_complete],teleport_meant[num_complete],assemble_meant[num_complete]]\n",
    "        finish_station4(logger4,t,1)\n",
    "        logger4.write_act(\"Pass\",RNG.Expon(pass_meant[num_complete],4))\n",
    "        num_complete += 1\n",
    "\n",
    "    # completed all necessary body frames\n",
    "    if num_body == num_order:\n",
    "        break\n",
    "\n",
    "# empty out body frames in inventory\n",
    "while num_received_up < num_order:\n",
    "    if logger4.clock < upstream_parts_time[num_received_up]:\n",
    "        # waiting parts coming from upstream\n",
    "        logger4.clock = upstream_parts_time[num_received_up]\n",
    "    else:\n",
    "        num_received_up += 1\n",
    "        t = [spawn_meant[num_complete],teleport_meant[num_complete],assemble_meant[num_complete]]\n",
    "        finish_station4(logger4,t,1)\n",
    "        logger4.write_act(\"Pass\",RNG.Expon(pass_meant[num_complete],4))\n",
    "        num_complete += 1"
   ]
  },
  {
   "cell_type": "code",
   "execution_count": 52,
   "metadata": {},
   "outputs": [],
   "source": [
    "# player,action,time_stamp\n",
    "log_df1 = pd.DataFrame({'player':\"player1\", 'action':logger1.alog, 'time_stamp':logger1.tlog})\n",
    "log_df2 = pd.DataFrame({'player':\"player2\", 'action':logger2.alog, 'time_stamp':logger2.tlog})\n",
    "log_df3 = pd.DataFrame({'player':\"player3\", 'action':logger3.alog, 'time_stamp':logger3.tlog})\n",
    "log_df4 = pd.DataFrame({'player':\"player4\", 'action':logger4.alog, 'time_stamp':logger4.tlog})\n",
    "log_df = pd.concat([log_df1,log_df2,log_df3,log_df4])\n",
    "log_df = log_df.sort_values(by=['time_stamp'],ascending=True)\n",
    "log_df.to_csv('./sim_data/assembly_line_4players.csv',index=False)"
   ]
  },
  {
   "cell_type": "markdown",
   "metadata": {},
   "source": [
    "## Collaboration - Low"
   ]
  },
  {
   "cell_type": "code",
   "execution_count": 55,
   "metadata": {},
   "outputs": [],
   "source": [
    "logger1 = ActionLogger()\n",
    "logger2 = ActionLogger()\n",
    "logger3 = ActionLogger()\n",
    "logger4 = ActionLogger()\n",
    "\n",
    "# player 1\n",
    "t = [spawn_meant0,teleport_meant0,assemble_meant0]\n",
    "\n",
    "for _ in range(2):\n",
    "    craft_car(logger1,t,5)\n",
    "    logger1.write_act(\"Pass\",RNG.Expon(pass_meant0,5))\n",
    "\n",
    "    # player 2\n",
    "    craft_car(logger2,t,6)\n",
    "    logger2.write_act(\"Pass\",RNG.Expon(pass_meant0,6))\n",
    "\n",
    "    # player 3\n",
    "    craft_car(logger3,t,7)\n",
    "    logger3.write_act(\"Pass\",RNG.Expon(pass_meant0,7))\n",
    "\n",
    "    # player 4\n",
    "    craft_car(logger4,t,8)\n",
    "    logger4.write_act(\"Pass\",RNG.Expon(pass_meant0,8))"
   ]
  },
  {
   "cell_type": "code",
   "execution_count": 61,
   "metadata": {},
   "outputs": [
    {
     "data": {
      "text/plain": [
       "array([131.72258552, 144.4106132 , 126.39456147, 120.25065888])"
      ]
     },
     "execution_count": 61,
     "metadata": {},
     "output_type": "execute_result"
    }
   ],
   "source": [
    "np.array([logger1.clock,logger2.clock,logger3.clock,logger4.clock])"
   ]
  },
  {
   "cell_type": "code",
   "execution_count": 60,
   "metadata": {},
   "outputs": [
    {
     "data": {
      "text/plain": [
       "array([3, 2], dtype=int64)"
      ]
     },
     "execution_count": 60,
     "metadata": {},
     "output_type": "execute_result"
    }
   ],
   "source": [
    "np.argpartition(np.array([logger1.clock,logger2.clock,logger3.clock,logger4.clock]),2)[0:2]"
   ]
  },
  {
   "cell_type": "code",
   "execution_count": 62,
   "metadata": {},
   "outputs": [],
   "source": [
    "craft_car(logger4,t,8)\n",
    "logger4.write_act(\"Pass\",RNG.Expon(pass_meant0,8))\n",
    "\n",
    "craft_car(logger3,t,7)\n",
    "logger3.write_act(\"Pass\",RNG.Expon(pass_meant0,7))"
   ]
  },
  {
   "cell_type": "code",
   "execution_count": 64,
   "metadata": {},
   "outputs": [],
   "source": [
    "log_df1 = pd.DataFrame({'player':\"player1\", 'action':logger1.alog, 'time_stamp':logger1.tlog})\n",
    "log_df2 = pd.DataFrame({'player':\"player2\", 'action':logger2.alog, 'time_stamp':logger2.tlog})\n",
    "log_df3 = pd.DataFrame({'player':\"player3\", 'action':logger3.alog, 'time_stamp':logger3.tlog})\n",
    "log_df4 = pd.DataFrame({'player':\"player4\", 'action':logger4.alog, 'time_stamp':logger4.tlog})\n",
    "log_df = pd.concat([log_df1,log_df2,log_df3,log_df4])\n",
    "log_df = log_df.sort_values(by=['time_stamp'],ascending=True)\n",
    "log_df.to_csv('./sim_data/craft_4players.csv',index=False)"
   ]
  }
 ],
 "metadata": {
  "kernelspec": {
   "display_name": "Python 3.9.7 ('base')",
   "language": "python",
   "name": "python3"
  },
  "language_info": {
   "codemirror_mode": {
    "name": "ipython",
    "version": 3
   },
   "file_extension": ".py",
   "mimetype": "text/x-python",
   "name": "python",
   "nbconvert_exporter": "python",
   "pygments_lexer": "ipython3",
   "version": "3.9.7 (default, Sep 16 2021, 16:59:28) [MSC v.1916 64 bit (AMD64)]"
  },
  "orig_nbformat": 4,
  "vscode": {
   "interpreter": {
    "hash": "41490c706c2f5d934508b9157cd4aeb40558a7e0fa8a6061ce60f5cf39ecf8e6"
   }
  }
 },
 "nbformat": 4,
 "nbformat_minor": 2
}
