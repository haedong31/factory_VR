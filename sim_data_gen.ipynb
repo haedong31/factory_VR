{
 "cells": [
  {
   "cell_type": "code",
   "execution_count": 1,
   "metadata": {},
   "outputs": [
    {
     "name": "stdout",
     "output_type": "stream",
     "text": [
      "initialized\n"
     ]
    }
   ],
   "source": [
    "import pandas as pd\n",
    "import random\n",
    "import RNG"
   ]
  },
  {
   "cell_type": "markdown",
   "metadata": {},
   "source": [
    "### Simulation parameters and helper functions"
   ]
  },
  {
   "cell_type": "code",
   "execution_count": 2,
   "metadata": {},
   "outputs": [],
   "source": [
    "num_order = random.randint(5,10)\n",
    "\n",
    "# unit of time: minuate\n",
    "spawn_meant = 0.25\n",
    "teleport_meant = 0.5\n",
    "assemble_meant = 1\n",
    "insp_meant = 1.5\n",
    "\n",
    "class ActionLogger(object):\n",
    "    def __init__(self):\n",
    "        self.clock = 0.0\n",
    "        self.alog = []\n",
    "        self.tlog = []\n",
    "\n",
    "    def write_act(self,a,t):\n",
    "        self.clock += t\n",
    "        self.alog.append(a)\n",
    "        self.tlog.append(t)"
   ]
  },
  {
   "cell_type": "markdown",
   "metadata": {},
   "source": [
    "### Station 1 - Wheel sets x 2"
   ]
  },
  {
   "cell_type": "code",
   "execution_count": 3,
   "metadata": {},
   "outputs": [],
   "source": [
    "logger1 = ActionLogger()\n",
    "\n",
    "for _ in range(num_order):\n",
    "    # sourcing: spawn parts\n",
    "    for _ in range(14):\n",
    "        logger1.write_act(\"SpawnPart\",RNG.Expon(spawn_meant,1))\n",
    "\n",
    "    # manufacturing: wheel sets\n",
    "    # (rim + tire) x 4\n",
    "    for _ in range(4):\n",
    "        # rim\n",
    "        logger1.write_act(\"TeleportPart\",RNG.Expon(teleport_meant,1))\n",
    "\n",
    "        # wheel\n",
    "        logger1.write_act(\"TeleportPart\",RNG.Expon(teleport_meant,1))\n",
    "\n",
    "        # rim + wheel\n",
    "        logger1.write_act(\"Assemble\",RNG.Expon(assemble_meant,1))\n",
    "\n",
    "    # (wheel + axle) x 2\n",
    "    for _ in range(2):\n",
    "        # teleport axle\n",
    "        logger1.write_act(\"TeleportPart\",RNG.Expon(teleport_meant,1))\n",
    "\n",
    "        # axle + wheel 1\n",
    "        logger1.write_act(\"Assemble\",RNG.Expon(assemble_meant,1))\n",
    "\n",
    "        # axle + wheel 2\n",
    "        logger1.write_act(\"Assemble\",RNG.Expon(assemble_meant,1))\n",
    "        \n",
    "    # (axle + axle) x 2\n",
    "    for _ in range(2):\n",
    "        # teleport connecting plate\n",
    "        logger1.write_act(\"TeleportPart\",RNG.Expon(teleport_meant,1))\n",
    "\n",
    "        # axle + axle\n",
    "        logger1.write_act(\"Assemble\",RNG.Expon(assemble_meant,1))\n",
    "\n",
    "    # inspection x 2\n",
    "    for _ in range(2):\n",
    "        logger1.write_act(\"Inspection\",RNG.Expon(insp_meant,1))"
   ]
  },
  {
   "cell_type": "markdown",
   "metadata": {},
   "source": [
    "### Station 2 - Chassis"
   ]
  },
  {
   "cell_type": "code",
   "execution_count": null,
   "metadata": {},
   "outputs": [],
   "source": [
    "logger2 = ActionLogger()\n"
   ]
  },
  {
   "cell_type": "markdown",
   "metadata": {},
   "source": [
    "### Station 3 - Windshield & front body"
   ]
  },
  {
   "cell_type": "code",
   "execution_count": null,
   "metadata": {},
   "outputs": [],
   "source": [
    "clock3 = 0.0"
   ]
  },
  {
   "cell_type": "markdown",
   "metadata": {},
   "source": [
    "### Station 4 - Ceiling & rear body"
   ]
  },
  {
   "cell_type": "code",
   "execution_count": null,
   "metadata": {},
   "outputs": [],
   "source": [
    "clock4 = 0.0"
   ]
  }
 ],
 "metadata": {
  "kernelspec": {
   "display_name": "Python 3.9.7 ('base')",
   "language": "python",
   "name": "python3"
  },
  "language_info": {
   "codemirror_mode": {
    "name": "ipython",
    "version": 3
   },
   "file_extension": ".py",
   "mimetype": "text/x-python",
   "name": "python",
   "nbconvert_exporter": "python",
   "pygments_lexer": "ipython3",
   "version": "3.9.7"
  },
  "orig_nbformat": 4,
  "vscode": {
   "interpreter": {
    "hash": "41490c706c2f5d934508b9157cd4aeb40558a7e0fa8a6061ce60f5cf39ecf8e6"
   }
  }
 },
 "nbformat": 4,
 "nbformat_minor": 2
}
